{
 "cells": [
  {
   "cell_type": "code",
   "execution_count": 61,
   "metadata": {},
   "outputs": [],
   "source": [
    "import pandas as pd\n",
    "import numpy as np\n",
    "\n",
    "df=pd.read_csv('luis-daten.csv', sep=',',header = [0])\n",
    "df_train = df.loc[df['Train'] == 1]\n",
    "df_test = df.loc[df['Train'] == 1]\n",
    "y_train = np.array([int(x>35) for x in df_train['PM10'].values.tolist()])\n",
    "y_test = np.array([int(x>35) for x in df_test['PM10'].values.tolist()])\n",
    "X_train = np.array(df_train.iloc[:,2:5].values)\n",
    "X_test =  np.array(df_test.iloc[:,2:5].values)"
   ]
  },
  {
   "cell_type": "code",
   "execution_count": 67,
   "metadata": {},
   "outputs": [
    {
     "data": {
      "text/plain": [
       "0.06666666666666665"
      ]
     },
     "execution_count": 67,
     "metadata": {},
     "output_type": "execute_result"
    }
   ],
   "source": [
    "##logistic regression\n",
    "\n",
    "import sklearn.linear_model as lm\n",
    "from sklearn.metrics import accuracy_score\n",
    "\n",
    "logistic_regression = lm.LogisticRegression(solver = 'liblinear', warm_start = True).fit(X_train, y_train)\n",
    "y_pred = logistic_regression.predict(X_test)\n",
    "\n",
    "accuracy = accuracy_score(y_test, y_pred)\n",
    "error_rate = 1 - accuracy\n",
    "error_rate"
   ]
  },
  {
   "cell_type": "code",
   "execution_count": null,
   "metadata": {},
   "outputs": [],
   "source": [
    "cv_results_lr = cross_validate(logistic_regression, X, y, cv=nr_folds, error_score='raise', return_train_score=True)\n",
    "\n",
    "df_lr = pd.DataFrame(data=cv_results_lr)\n",
    "df_lr.loc['mean'] = df_lr.mean()\n",
    "df_lr"
   ]
  }
 ],
 "metadata": {
  "kernelspec": {
   "display_name": "Python 3",
   "language": "python",
   "name": "python3"
  },
  "language_info": {
   "codemirror_mode": {
    "name": "ipython",
    "version": 3
   },
   "file_extension": ".py",
   "mimetype": "text/x-python",
   "name": "python",
   "nbconvert_exporter": "python",
   "pygments_lexer": "ipython3",
   "version": "3.7.3"
  }
 },
 "nbformat": 4,
 "nbformat_minor": 2
}
