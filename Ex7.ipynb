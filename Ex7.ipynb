{
 "cells": [
  {
   "cell_type": "code",
   "execution_count": 138,
   "metadata": {},
   "outputs": [],
   "source": [
    "import pandas as pd\n",
    "import numpy as np\n",
    "from sklearn.metrics import accuracy_score\n",
    "\n",
    "df=pd.read_csv('luis-daten.csv', sep=',',header = [0])\n",
    "df_train = df.loc[df['Train'] == 1]\n",
    "df_test = df.loc[df['Train'] == 1]\n",
    "y_train = np.array([int(x>35) for x in df_train['PM10'].values.tolist()])\n",
    "y_test = np.array([int(x>35) for x in df_test['PM10'].values.tolist()])\n",
    "X_train = np.array(df_train.iloc[:,3:6].values)\n",
    "X_test =  np.array(df_test.iloc[:,3:6].values)"
   ]
  },
  {
   "cell_type": "code",
   "execution_count": 140,
   "metadata": {},
   "outputs": [
    {
     "data": {
      "text/plain": [
       "0.16666666666666663"
      ]
     },
     "execution_count": 140,
     "metadata": {},
     "output_type": "execute_result"
    }
   ],
   "source": [
    "##logistic regression\n",
    "\n",
    "import sklearn.linear_model as lm\n",
    "\n",
    "logistic_regression = lm.LogisticRegression(solver = 'liblinear', warm_start = True).fit(X_train, y_train)\n",
    "y_pred = logistic_regression.predict(X_test)\n",
    "\n",
    "accuracy = accuracy_score(y_test, y_pred)\n",
    "error_rate_lr = 1 - accuracy\n",
    "error_rate_lr"
   ]
  },
  {
   "cell_type": "code",
   "execution_count": 142,
   "metadata": {},
   "outputs": [
    {
     "data": {
      "text/plain": [
       "0.0"
      ]
     },
     "execution_count": 142,
     "metadata": {},
     "output_type": "execute_result"
    }
   ],
   "source": [
    "##KNN\n",
    "\n",
    "import sklearn.neighbors as knn\n",
    "\n",
    "k_nearest_neighbours = knn.KNeighborsClassifier(n_neighbors = 1).fit(X_train, y_train) #biased?\n",
    "\n",
    "y_pred = k_nearest_neighbours.predict(X_test)\n",
    "\n",
    "accuracy = accuracy_score(y_test, y_pred,normalize=True)\n",
    "error_rate_knn = 1 - accuracy\n",
    "error_rate_knn"
   ]
  },
  {
   "cell_type": "code",
   "execution_count": 143,
   "metadata": {},
   "outputs": [
    {
     "data": {
      "text/plain": [
       "0.15000000000000002"
      ]
     },
     "execution_count": 143,
     "metadata": {},
     "output_type": "execute_result"
    }
   ],
   "source": [
    "##LDA \n",
    "\n",
    "import sklearn.discriminant_analysis as dm\n",
    "\n",
    "linear_discriminant_analysis = dm.LinearDiscriminantAnalysis(solver = 'svd').fit(X_train, y_train) #'lsqr', 'eigen'\n",
    "\n",
    "y_pred = linear_discriminant_analysis.predict(X_test)\n",
    "\n",
    "accuracy = accuracy_score(y_test, y_pred,normalize=True)\n",
    "error_rate_lda = 1 - accuracy\n",
    "error_rate_lda"
   ]
  },
  {
   "cell_type": "code",
   "execution_count": 144,
   "metadata": {},
   "outputs": [
    {
     "data": {
      "text/plain": [
       "0.033333333333333326"
      ]
     },
     "execution_count": 144,
     "metadata": {},
     "output_type": "execute_result"
    }
   ],
   "source": [
    "##decision tree\n",
    "import sklearn.tree as tree\n",
    "\n",
    "decision_tree = tree.DecisionTreeClassifier(min_samples_split = 2, min_samples_leaf = 2).fit(X_train, y_train)\n",
    "\n",
    "y_pred = decision_tree.predict(X_test)\n",
    "\n",
    "accuracy = accuracy_score(y_test, y_pred,normalize=True)\n",
    "error_rate_dt = 1 - accuracy\n",
    "error_rate_dt\n"
   ]
  },
  {
   "cell_type": "code",
   "execution_count": 145,
   "metadata": {},
   "outputs": [
    {
     "data": {
      "image/png": "[encoded data removed]",
      "text/plain": [
       "<Figure size 640x640 with 1 Axes>"
      ]
     },
     "metadata": {
      "needs_background": "light"
     },
     "output_type": "display_data"
    }
   ],
   "source": [
    "import numpy as np\n",
    "import matplotlib.pyplot as plt\n",
    "\n",
    "X_data = X_train+ X_test\n",
    "y_data = y_train+ y_test\n",
    "\n",
    "\n",
    "\n",
    "x = X_data[:,1]\n",
    "y = X_data[:,0]\n",
    "colors = y_data\n",
    "area = 20\n",
    "\n",
    "plt.figure(figsize=(8, 8), dpi=80)\n",
    "plt.scatter(x, y, s=area, c=colors, alpha=0.5)\n",
    "#rcParams[\"figure.figsize\"] = [6.4, 4.8]\n",
    "plt.show()"
   ]
  },
  {
   "cell_type": "code",
   "execution_count": null,
   "metadata": {},
   "outputs": [],
   "source": []
  }
 ],
 "metadata": {
  "kernelspec": {
   "display_name": "Python 3",
   "language": "python",
   "name": "python3"
  },
  "language_info": {
   "codemirror_mode": {
    "name": "ipython",
    "version": 3
   },
   "file_extension": ".py",
   "mimetype": "text/x-python",
   "name": "python",
   "nbconvert_exporter": "python",
   "pygments_lexer": "ipython3",
   "version": "3.7.3"
  }
 },
 "nbformat": 4,
 "nbformat_minor": 2
}
